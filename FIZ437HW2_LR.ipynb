{
  "nbformat": 4,
  "nbformat_minor": 0,
  "metadata": {
    "colab": {
      "provenance": [],
      "collapsed_sections": [],
      "authorship_tag": "ABX9TyPQoi98ctaTq7sqWZeWRBuf",
      "include_colab_link": true
    },
    "kernelspec": {
      "name": "python3",
      "display_name": "Python 3"
    },
    "language_info": {
      "name": "python"
    }
  },
  "cells": [
    {
      "cell_type": "markdown",
      "metadata": {
        "id": "view-in-github",
        "colab_type": "text"
      },
      "source": [
        "<a href=\"https://colab.research.google.com/github/tuntul17/FIZ437E/blob/main/FIZ437HW2_LR.ipynb\" target=\"_parent\"><img src=\"https://colab.research.google.com/assets/colab-badge.svg\" alt=\"Open In Colab\"/></a>"
      ]
    },
    {
      "cell_type": "markdown",
      "source": [
        "Binary classification using **log regression** \n",
        "\n",
        "**10% test data** \n",
        "\n",
        "show that you stop before overfitting by drawing the training curve (Loss vs # of epoch)\n",
        "\n",
        "DO NOT USE scikit learn or pytorch!"
      ],
      "metadata": {
        "id": "AiR8iF2ms8Cd"
      }
    },
    {
      "cell_type": "code",
      "execution_count": null,
      "metadata": {
        "id": "DQxBDIXIgmQG"
      },
      "outputs": [],
      "source": [
        "import numpy as np\n",
        "import pandas as pd\n",
        "import math as mt\n",
        "from pylab import *\n",
        "from sklearn.model_selection import train_test_split\n",
        "import seaborn as sns\n",
        "from sklearn.preprocessing import MinMaxScaler"
      ]
    },
    {
      "cell_type": "code",
      "source": [
        "#preparing dataset\n",
        "df = pd.read_csv('https://query.data.world/s/bu2merlkc4s6t3k37rch42hs7f7ll2')\n",
        "df.isnull().sum()"
      ],
      "metadata": {
        "id": "GFDCcYqH_ZDt",
        "colab": {
          "base_uri": "https://localhost:8080/"
        },
        "outputId": "b57640c5-045f-47c5-ac5d-e83ebe236f2b"
      },
      "execution_count": null,
      "outputs": [
        {
          "output_type": "execute_result",
          "data": {
            "text/plain": [
              "Name            0\n",
              "GP              0\n",
              "MIN             0\n",
              "PTS             0\n",
              "FGM             0\n",
              "FGA             0\n",
              "FG%             0\n",
              "3P Made         0\n",
              "3PA             0\n",
              "3P%            11\n",
              "FTM             0\n",
              "FTA             0\n",
              "FT%             0\n",
              "OREB            0\n",
              "DREB            0\n",
              "REB             0\n",
              "AST             0\n",
              "STL             0\n",
              "BLK             0\n",
              "TOV             0\n",
              "TARGET_5Yrs     0\n",
              "dtype: int64"
            ]
          },
          "metadata": {},
          "execution_count": 3
        }
      ]
    },
    {
      "cell_type": "markdown",
      "source": [
        "**GP** - Games played\n",
        "\n",
        "**MIN** - minutes played\n",
        "\n",
        "**PTS** - points per game\n",
        "\n",
        "**FGM** - field goals made\n",
        "\n",
        "**FGA** - field goal attempts\n",
        "\n",
        "**FG%** - field goal percentage\n",
        "\n",
        "**3P MADE** - 3point made\n",
        "\n",
        "**3PA** - 3points attempt\n",
        "\n",
        "**FTM** - free throw made\n",
        "\n",
        "**FTA** - free throw attempts\n",
        "\n",
        "**FT%** - free throw percentage\n",
        "\n",
        "**OREB** - offensive rebounds"
      ],
      "metadata": {
        "id": "IzPbWWGgleke"
      }
    },
    {
      "cell_type": "code",
      "source": [
        "df.drop(\"Name\",axis=1,inplace=True)\n",
        "df.head()"
      ],
      "metadata": {
        "id": "LNZ-iOtYz0Hs",
        "colab": {
          "base_uri": "https://localhost:8080/",
          "height": 206
        },
        "outputId": "e717c175-ec94-4da4-b032-190cd7da93d6"
      },
      "execution_count": null,
      "outputs": [
        {
          "output_type": "execute_result",
          "data": {
            "text/plain": [
              "   GP   MIN  PTS  FGM  FGA   FG%  3P Made  3PA   3P%  FTM  FTA   FT%  OREB  \\\n",
              "0  36  27.4  7.4  2.6  7.6  34.7      0.5  2.1  25.0  1.6  2.3  69.9   0.7   \n",
              "1  35  26.9  7.2  2.0  6.7  29.6      0.7  2.8  23.5  2.6  3.4  76.5   0.5   \n",
              "2  74  15.3  5.2  2.0  4.7  42.2      0.4  1.7  24.4  0.9  1.3  67.0   0.5   \n",
              "3  58  11.6  5.7  2.3  5.5  42.6      0.1  0.5  22.6  0.9  1.3  68.9   1.0   \n",
              "4  48  11.5  4.5  1.6  3.0  52.4      0.0  0.1   0.0  1.3  1.9  67.4   1.0   \n",
              "\n",
              "   DREB  REB  AST  STL  BLK  TOV  TARGET_5Yrs  \n",
              "0   3.4  4.1  1.9  0.4  0.4  1.3          0.0  \n",
              "1   2.0  2.4  3.7  1.1  0.5  1.6          0.0  \n",
              "2   1.7  2.2  1.0  0.5  0.3  1.0          0.0  \n",
              "3   0.9  1.9  0.8  0.6  0.1  1.0          1.0  \n",
              "4   1.5  2.5  0.3  0.3  0.4  0.8          1.0  "
            ],
            "text/html": [
              "\n",
              "  <div id=\"df-3c0cd588-f407-494b-8ef3-ea2d5dc3bb77\">\n",
              "    <div class=\"colab-df-container\">\n",
              "      <div>\n",
              "<style scoped>\n",
              "    .dataframe tbody tr th:only-of-type {\n",
              "        vertical-align: middle;\n",
              "    }\n",
              "\n",
              "    .dataframe tbody tr th {\n",
              "        vertical-align: top;\n",
              "    }\n",
              "\n",
              "    .dataframe thead th {\n",
              "        text-align: right;\n",
              "    }\n",
              "</style>\n",
              "<table border=\"1\" class=\"dataframe\">\n",
              "  <thead>\n",
              "    <tr style=\"text-align: right;\">\n",
              "      <th></th>\n",
              "      <th>GP</th>\n",
              "      <th>MIN</th>\n",
              "      <th>PTS</th>\n",
              "      <th>FGM</th>\n",
              "      <th>FGA</th>\n",
              "      <th>FG%</th>\n",
              "      <th>3P Made</th>\n",
              "      <th>3PA</th>\n",
              "      <th>3P%</th>\n",
              "      <th>FTM</th>\n",
              "      <th>FTA</th>\n",
              "      <th>FT%</th>\n",
              "      <th>OREB</th>\n",
              "      <th>DREB</th>\n",
              "      <th>REB</th>\n",
              "      <th>AST</th>\n",
              "      <th>STL</th>\n",
              "      <th>BLK</th>\n",
              "      <th>TOV</th>\n",
              "      <th>TARGET_5Yrs</th>\n",
              "    </tr>\n",
              "  </thead>\n",
              "  <tbody>\n",
              "    <tr>\n",
              "      <th>0</th>\n",
              "      <td>36</td>\n",
              "      <td>27.4</td>\n",
              "      <td>7.4</td>\n",
              "      <td>2.6</td>\n",
              "      <td>7.6</td>\n",
              "      <td>34.7</td>\n",
              "      <td>0.5</td>\n",
              "      <td>2.1</td>\n",
              "      <td>25.0</td>\n",
              "      <td>1.6</td>\n",
              "      <td>2.3</td>\n",
              "      <td>69.9</td>\n",
              "      <td>0.7</td>\n",
              "      <td>3.4</td>\n",
              "      <td>4.1</td>\n",
              "      <td>1.9</td>\n",
              "      <td>0.4</td>\n",
              "      <td>0.4</td>\n",
              "      <td>1.3</td>\n",
              "      <td>0.0</td>\n",
              "    </tr>\n",
              "    <tr>\n",
              "      <th>1</th>\n",
              "      <td>35</td>\n",
              "      <td>26.9</td>\n",
              "      <td>7.2</td>\n",
              "      <td>2.0</td>\n",
              "      <td>6.7</td>\n",
              "      <td>29.6</td>\n",
              "      <td>0.7</td>\n",
              "      <td>2.8</td>\n",
              "      <td>23.5</td>\n",
              "      <td>2.6</td>\n",
              "      <td>3.4</td>\n",
              "      <td>76.5</td>\n",
              "      <td>0.5</td>\n",
              "      <td>2.0</td>\n",
              "      <td>2.4</td>\n",
              "      <td>3.7</td>\n",
              "      <td>1.1</td>\n",
              "      <td>0.5</td>\n",
              "      <td>1.6</td>\n",
              "      <td>0.0</td>\n",
              "    </tr>\n",
              "    <tr>\n",
              "      <th>2</th>\n",
              "      <td>74</td>\n",
              "      <td>15.3</td>\n",
              "      <td>5.2</td>\n",
              "      <td>2.0</td>\n",
              "      <td>4.7</td>\n",
              "      <td>42.2</td>\n",
              "      <td>0.4</td>\n",
              "      <td>1.7</td>\n",
              "      <td>24.4</td>\n",
              "      <td>0.9</td>\n",
              "      <td>1.3</td>\n",
              "      <td>67.0</td>\n",
              "      <td>0.5</td>\n",
              "      <td>1.7</td>\n",
              "      <td>2.2</td>\n",
              "      <td>1.0</td>\n",
              "      <td>0.5</td>\n",
              "      <td>0.3</td>\n",
              "      <td>1.0</td>\n",
              "      <td>0.0</td>\n",
              "    </tr>\n",
              "    <tr>\n",
              "      <th>3</th>\n",
              "      <td>58</td>\n",
              "      <td>11.6</td>\n",
              "      <td>5.7</td>\n",
              "      <td>2.3</td>\n",
              "      <td>5.5</td>\n",
              "      <td>42.6</td>\n",
              "      <td>0.1</td>\n",
              "      <td>0.5</td>\n",
              "      <td>22.6</td>\n",
              "      <td>0.9</td>\n",
              "      <td>1.3</td>\n",
              "      <td>68.9</td>\n",
              "      <td>1.0</td>\n",
              "      <td>0.9</td>\n",
              "      <td>1.9</td>\n",
              "      <td>0.8</td>\n",
              "      <td>0.6</td>\n",
              "      <td>0.1</td>\n",
              "      <td>1.0</td>\n",
              "      <td>1.0</td>\n",
              "    </tr>\n",
              "    <tr>\n",
              "      <th>4</th>\n",
              "      <td>48</td>\n",
              "      <td>11.5</td>\n",
              "      <td>4.5</td>\n",
              "      <td>1.6</td>\n",
              "      <td>3.0</td>\n",
              "      <td>52.4</td>\n",
              "      <td>0.0</td>\n",
              "      <td>0.1</td>\n",
              "      <td>0.0</td>\n",
              "      <td>1.3</td>\n",
              "      <td>1.9</td>\n",
              "      <td>67.4</td>\n",
              "      <td>1.0</td>\n",
              "      <td>1.5</td>\n",
              "      <td>2.5</td>\n",
              "      <td>0.3</td>\n",
              "      <td>0.3</td>\n",
              "      <td>0.4</td>\n",
              "      <td>0.8</td>\n",
              "      <td>1.0</td>\n",
              "    </tr>\n",
              "  </tbody>\n",
              "</table>\n",
              "</div>\n",
              "      <button class=\"colab-df-convert\" onclick=\"convertToInteractive('df-3c0cd588-f407-494b-8ef3-ea2d5dc3bb77')\"\n",
              "              title=\"Convert this dataframe to an interactive table.\"\n",
              "              style=\"display:none;\">\n",
              "        \n",
              "  <svg xmlns=\"http://www.w3.org/2000/svg\" height=\"24px\"viewBox=\"0 0 24 24\"\n",
              "       width=\"24px\">\n",
              "    <path d=\"M0 0h24v24H0V0z\" fill=\"none\"/>\n",
              "    <path d=\"M18.56 5.44l.94 2.06.94-2.06 2.06-.94-2.06-.94-.94-2.06-.94 2.06-2.06.94zm-11 1L8.5 8.5l.94-2.06 2.06-.94-2.06-.94L8.5 2.5l-.94 2.06-2.06.94zm10 10l.94 2.06.94-2.06 2.06-.94-2.06-.94-.94-2.06-.94 2.06-2.06.94z\"/><path d=\"M17.41 7.96l-1.37-1.37c-.4-.4-.92-.59-1.43-.59-.52 0-1.04.2-1.43.59L10.3 9.45l-7.72 7.72c-.78.78-.78 2.05 0 2.83L4 21.41c.39.39.9.59 1.41.59.51 0 1.02-.2 1.41-.59l7.78-7.78 2.81-2.81c.8-.78.8-2.07 0-2.86zM5.41 20L4 18.59l7.72-7.72 1.47 1.35L5.41 20z\"/>\n",
              "  </svg>\n",
              "      </button>\n",
              "      \n",
              "  <style>\n",
              "    .colab-df-container {\n",
              "      display:flex;\n",
              "      flex-wrap:wrap;\n",
              "      gap: 12px;\n",
              "    }\n",
              "\n",
              "    .colab-df-convert {\n",
              "      background-color: #E8F0FE;\n",
              "      border: none;\n",
              "      border-radius: 50%;\n",
              "      cursor: pointer;\n",
              "      display: none;\n",
              "      fill: #1967D2;\n",
              "      height: 32px;\n",
              "      padding: 0 0 0 0;\n",
              "      width: 32px;\n",
              "    }\n",
              "\n",
              "    .colab-df-convert:hover {\n",
              "      background-color: #E2EBFA;\n",
              "      box-shadow: 0px 1px 2px rgba(60, 64, 67, 0.3), 0px 1px 3px 1px rgba(60, 64, 67, 0.15);\n",
              "      fill: #174EA6;\n",
              "    }\n",
              "\n",
              "    [theme=dark] .colab-df-convert {\n",
              "      background-color: #3B4455;\n",
              "      fill: #D2E3FC;\n",
              "    }\n",
              "\n",
              "    [theme=dark] .colab-df-convert:hover {\n",
              "      background-color: #434B5C;\n",
              "      box-shadow: 0px 1px 3px 1px rgba(0, 0, 0, 0.15);\n",
              "      filter: drop-shadow(0px 1px 2px rgba(0, 0, 0, 0.3));\n",
              "      fill: #FFFFFF;\n",
              "    }\n",
              "  </style>\n",
              "\n",
              "      <script>\n",
              "        const buttonEl =\n",
              "          document.querySelector('#df-3c0cd588-f407-494b-8ef3-ea2d5dc3bb77 button.colab-df-convert');\n",
              "        buttonEl.style.display =\n",
              "          google.colab.kernel.accessAllowed ? 'block' : 'none';\n",
              "\n",
              "        async function convertToInteractive(key) {\n",
              "          const element = document.querySelector('#df-3c0cd588-f407-494b-8ef3-ea2d5dc3bb77');\n",
              "          const dataTable =\n",
              "            await google.colab.kernel.invokeFunction('convertToInteractive',\n",
              "                                                     [key], {});\n",
              "          if (!dataTable) return;\n",
              "\n",
              "          const docLinkHtml = 'Like what you see? Visit the ' +\n",
              "            '<a target=\"_blank\" href=https://colab.research.google.com/notebooks/data_table.ipynb>data table notebook</a>'\n",
              "            + ' to learn more about interactive tables.';\n",
              "          element.innerHTML = '';\n",
              "          dataTable['output_type'] = 'display_data';\n",
              "          await google.colab.output.renderOutput(dataTable, element);\n",
              "          const docLink = document.createElement('div');\n",
              "          docLink.innerHTML = docLinkHtml;\n",
              "          element.appendChild(docLink);\n",
              "        }\n",
              "      </script>\n",
              "    </div>\n",
              "  </div>\n",
              "  "
            ]
          },
          "metadata": {},
          "execution_count": 4
        }
      ]
    },
    {
      "cell_type": "code",
      "source": [
        "#In order to fix the missing values in 3 points percantages update the missing values with mean of the 3P%\n",
        "upd_df = df\n",
        "upd_df[\"3P%\"]=upd_df[\"3P%\"].fillna(upd_df[\"3P%\"].mean())\n",
        "upd_df.isnull().sum()"
      ],
      "metadata": {
        "colab": {
          "base_uri": "https://localhost:8080/"
        },
        "id": "GWppuxX0kE4h",
        "outputId": "950a2a31-2ebf-4d9b-eb2d-96fe43fdc358"
      },
      "execution_count": null,
      "outputs": [
        {
          "output_type": "execute_result",
          "data": {
            "text/plain": [
              "GP             0\n",
              "MIN            0\n",
              "PTS            0\n",
              "FGM            0\n",
              "FGA            0\n",
              "FG%            0\n",
              "3P Made        0\n",
              "3PA            0\n",
              "3P%            0\n",
              "FTM            0\n",
              "FTA            0\n",
              "FT%            0\n",
              "OREB           0\n",
              "DREB           0\n",
              "REB            0\n",
              "AST            0\n",
              "STL            0\n",
              "BLK            0\n",
              "TOV            0\n",
              "TARGET_5Yrs    0\n",
              "dtype: int64"
            ]
          },
          "metadata": {},
          "execution_count": 5
        }
      ]
    },
    {
      "cell_type": "code",
      "source": [
        "upd_df.describe() "
      ],
      "metadata": {
        "colab": {
          "base_uri": "https://localhost:8080/",
          "height": 364
        },
        "id": "kWh5TYZPkv9-",
        "outputId": "4e110bef-f80d-47df-8e65-523c3a27bbc7"
      },
      "execution_count": null,
      "outputs": [
        {
          "output_type": "execute_result",
          "data": {
            "text/plain": [
              "                GP          MIN          PTS          FGM          FGA  \\\n",
              "count  1340.000000  1340.000000  1340.000000  1340.000000  1340.000000   \n",
              "mean     60.414179    17.624627     6.801493     2.629104     5.885299   \n",
              "std      17.433992     8.307964     4.357545     1.683555     3.593488   \n",
              "min      11.000000     3.100000     0.700000     0.300000     0.800000   \n",
              "25%      47.000000    10.875000     3.700000     1.400000     3.300000   \n",
              "50%      63.000000    16.100000     5.550000     2.100000     4.800000   \n",
              "75%      77.000000    22.900000     8.800000     3.400000     7.500000   \n",
              "max      82.000000    40.900000    28.200000    10.200000    19.800000   \n",
              "\n",
              "               FG%      3P Made          3PA          3P%          FTM  \\\n",
              "count  1340.000000  1340.000000  1340.000000  1340.000000  1340.000000   \n",
              "mean     44.169403     0.247612     0.779179    19.308126     1.297687   \n",
              "std       6.137679     0.383688     1.061847    15.956966     0.987246   \n",
              "min      23.800000     0.000000     0.000000     0.000000     0.000000   \n",
              "25%      40.200000     0.000000     0.000000     0.000000     0.600000   \n",
              "50%      44.100000     0.100000     0.300000    22.200000     1.000000   \n",
              "75%      47.900000     0.400000     1.200000    32.500000     1.600000   \n",
              "max      73.700000     2.300000     6.500000   100.000000     7.700000   \n",
              "\n",
              "               FTA          FT%         OREB         DREB          REB  \\\n",
              "count  1340.000000  1340.000000  1340.000000  1340.000000  1340.000000   \n",
              "mean      1.821940    70.300299     1.009403     2.025746     3.034478   \n",
              "std       1.322984    10.578479     0.777119     1.360008     2.057774   \n",
              "min       0.000000     0.000000     0.000000     0.200000     0.300000   \n",
              "25%       0.900000    64.700000     0.400000     1.000000     1.500000   \n",
              "50%       1.500000    71.250000     0.800000     1.700000     2.500000   \n",
              "75%       2.300000    77.600000     1.400000     2.600000     4.000000   \n",
              "max      10.200000   100.000000     5.300000     9.600000    13.900000   \n",
              "\n",
              "               AST          STL          BLK          TOV  TARGET_5Yrs  \n",
              "count  1340.000000  1340.000000  1340.000000  1340.000000  1340.000000  \n",
              "mean      1.550522     0.618507     0.368582     1.193582     0.620149  \n",
              "std       1.471169     0.409759     0.429049     0.722541     0.485531  \n",
              "min       0.000000     0.000000     0.000000     0.100000     0.000000  \n",
              "25%       0.600000     0.300000     0.100000     0.700000     0.000000  \n",
              "50%       1.100000     0.500000     0.200000     1.000000     1.000000  \n",
              "75%       2.000000     0.800000     0.500000     1.500000     1.000000  \n",
              "max      10.600000     2.500000     3.900000     4.400000     1.000000  "
            ],
            "text/html": [
              "\n",
              "  <div id=\"df-510ed701-098b-4606-a576-0c926741f0e0\">\n",
              "    <div class=\"colab-df-container\">\n",
              "      <div>\n",
              "<style scoped>\n",
              "    .dataframe tbody tr th:only-of-type {\n",
              "        vertical-align: middle;\n",
              "    }\n",
              "\n",
              "    .dataframe tbody tr th {\n",
              "        vertical-align: top;\n",
              "    }\n",
              "\n",
              "    .dataframe thead th {\n",
              "        text-align: right;\n",
              "    }\n",
              "</style>\n",
              "<table border=\"1\" class=\"dataframe\">\n",
              "  <thead>\n",
              "    <tr style=\"text-align: right;\">\n",
              "      <th></th>\n",
              "      <th>GP</th>\n",
              "      <th>MIN</th>\n",
              "      <th>PTS</th>\n",
              "      <th>FGM</th>\n",
              "      <th>FGA</th>\n",
              "      <th>FG%</th>\n",
              "      <th>3P Made</th>\n",
              "      <th>3PA</th>\n",
              "      <th>3P%</th>\n",
              "      <th>FTM</th>\n",
              "      <th>FTA</th>\n",
              "      <th>FT%</th>\n",
              "      <th>OREB</th>\n",
              "      <th>DREB</th>\n",
              "      <th>REB</th>\n",
              "      <th>AST</th>\n",
              "      <th>STL</th>\n",
              "      <th>BLK</th>\n",
              "      <th>TOV</th>\n",
              "      <th>TARGET_5Yrs</th>\n",
              "    </tr>\n",
              "  </thead>\n",
              "  <tbody>\n",
              "    <tr>\n",
              "      <th>count</th>\n",
              "      <td>1340.000000</td>\n",
              "      <td>1340.000000</td>\n",
              "      <td>1340.000000</td>\n",
              "      <td>1340.000000</td>\n",
              "      <td>1340.000000</td>\n",
              "      <td>1340.000000</td>\n",
              "      <td>1340.000000</td>\n",
              "      <td>1340.000000</td>\n",
              "      <td>1340.000000</td>\n",
              "      <td>1340.000000</td>\n",
              "      <td>1340.000000</td>\n",
              "      <td>1340.000000</td>\n",
              "      <td>1340.000000</td>\n",
              "      <td>1340.000000</td>\n",
              "      <td>1340.000000</td>\n",
              "      <td>1340.000000</td>\n",
              "      <td>1340.000000</td>\n",
              "      <td>1340.000000</td>\n",
              "      <td>1340.000000</td>\n",
              "      <td>1340.000000</td>\n",
              "    </tr>\n",
              "    <tr>\n",
              "      <th>mean</th>\n",
              "      <td>60.414179</td>\n",
              "      <td>17.624627</td>\n",
              "      <td>6.801493</td>\n",
              "      <td>2.629104</td>\n",
              "      <td>5.885299</td>\n",
              "      <td>44.169403</td>\n",
              "      <td>0.247612</td>\n",
              "      <td>0.779179</td>\n",
              "      <td>19.308126</td>\n",
              "      <td>1.297687</td>\n",
              "      <td>1.821940</td>\n",
              "      <td>70.300299</td>\n",
              "      <td>1.009403</td>\n",
              "      <td>2.025746</td>\n",
              "      <td>3.034478</td>\n",
              "      <td>1.550522</td>\n",
              "      <td>0.618507</td>\n",
              "      <td>0.368582</td>\n",
              "      <td>1.193582</td>\n",
              "      <td>0.620149</td>\n",
              "    </tr>\n",
              "    <tr>\n",
              "      <th>std</th>\n",
              "      <td>17.433992</td>\n",
              "      <td>8.307964</td>\n",
              "      <td>4.357545</td>\n",
              "      <td>1.683555</td>\n",
              "      <td>3.593488</td>\n",
              "      <td>6.137679</td>\n",
              "      <td>0.383688</td>\n",
              "      <td>1.061847</td>\n",
              "      <td>15.956966</td>\n",
              "      <td>0.987246</td>\n",
              "      <td>1.322984</td>\n",
              "      <td>10.578479</td>\n",
              "      <td>0.777119</td>\n",
              "      <td>1.360008</td>\n",
              "      <td>2.057774</td>\n",
              "      <td>1.471169</td>\n",
              "      <td>0.409759</td>\n",
              "      <td>0.429049</td>\n",
              "      <td>0.722541</td>\n",
              "      <td>0.485531</td>\n",
              "    </tr>\n",
              "    <tr>\n",
              "      <th>min</th>\n",
              "      <td>11.000000</td>\n",
              "      <td>3.100000</td>\n",
              "      <td>0.700000</td>\n",
              "      <td>0.300000</td>\n",
              "      <td>0.800000</td>\n",
              "      <td>23.800000</td>\n",
              "      <td>0.000000</td>\n",
              "      <td>0.000000</td>\n",
              "      <td>0.000000</td>\n",
              "      <td>0.000000</td>\n",
              "      <td>0.000000</td>\n",
              "      <td>0.000000</td>\n",
              "      <td>0.000000</td>\n",
              "      <td>0.200000</td>\n",
              "      <td>0.300000</td>\n",
              "      <td>0.000000</td>\n",
              "      <td>0.000000</td>\n",
              "      <td>0.000000</td>\n",
              "      <td>0.100000</td>\n",
              "      <td>0.000000</td>\n",
              "    </tr>\n",
              "    <tr>\n",
              "      <th>25%</th>\n",
              "      <td>47.000000</td>\n",
              "      <td>10.875000</td>\n",
              "      <td>3.700000</td>\n",
              "      <td>1.400000</td>\n",
              "      <td>3.300000</td>\n",
              "      <td>40.200000</td>\n",
              "      <td>0.000000</td>\n",
              "      <td>0.000000</td>\n",
              "      <td>0.000000</td>\n",
              "      <td>0.600000</td>\n",
              "      <td>0.900000</td>\n",
              "      <td>64.700000</td>\n",
              "      <td>0.400000</td>\n",
              "      <td>1.000000</td>\n",
              "      <td>1.500000</td>\n",
              "      <td>0.600000</td>\n",
              "      <td>0.300000</td>\n",
              "      <td>0.100000</td>\n",
              "      <td>0.700000</td>\n",
              "      <td>0.000000</td>\n",
              "    </tr>\n",
              "    <tr>\n",
              "      <th>50%</th>\n",
              "      <td>63.000000</td>\n",
              "      <td>16.100000</td>\n",
              "      <td>5.550000</td>\n",
              "      <td>2.100000</td>\n",
              "      <td>4.800000</td>\n",
              "      <td>44.100000</td>\n",
              "      <td>0.100000</td>\n",
              "      <td>0.300000</td>\n",
              "      <td>22.200000</td>\n",
              "      <td>1.000000</td>\n",
              "      <td>1.500000</td>\n",
              "      <td>71.250000</td>\n",
              "      <td>0.800000</td>\n",
              "      <td>1.700000</td>\n",
              "      <td>2.500000</td>\n",
              "      <td>1.100000</td>\n",
              "      <td>0.500000</td>\n",
              "      <td>0.200000</td>\n",
              "      <td>1.000000</td>\n",
              "      <td>1.000000</td>\n",
              "    </tr>\n",
              "    <tr>\n",
              "      <th>75%</th>\n",
              "      <td>77.000000</td>\n",
              "      <td>22.900000</td>\n",
              "      <td>8.800000</td>\n",
              "      <td>3.400000</td>\n",
              "      <td>7.500000</td>\n",
              "      <td>47.900000</td>\n",
              "      <td>0.400000</td>\n",
              "      <td>1.200000</td>\n",
              "      <td>32.500000</td>\n",
              "      <td>1.600000</td>\n",
              "      <td>2.300000</td>\n",
              "      <td>77.600000</td>\n",
              "      <td>1.400000</td>\n",
              "      <td>2.600000</td>\n",
              "      <td>4.000000</td>\n",
              "      <td>2.000000</td>\n",
              "      <td>0.800000</td>\n",
              "      <td>0.500000</td>\n",
              "      <td>1.500000</td>\n",
              "      <td>1.000000</td>\n",
              "    </tr>\n",
              "    <tr>\n",
              "      <th>max</th>\n",
              "      <td>82.000000</td>\n",
              "      <td>40.900000</td>\n",
              "      <td>28.200000</td>\n",
              "      <td>10.200000</td>\n",
              "      <td>19.800000</td>\n",
              "      <td>73.700000</td>\n",
              "      <td>2.300000</td>\n",
              "      <td>6.500000</td>\n",
              "      <td>100.000000</td>\n",
              "      <td>7.700000</td>\n",
              "      <td>10.200000</td>\n",
              "      <td>100.000000</td>\n",
              "      <td>5.300000</td>\n",
              "      <td>9.600000</td>\n",
              "      <td>13.900000</td>\n",
              "      <td>10.600000</td>\n",
              "      <td>2.500000</td>\n",
              "      <td>3.900000</td>\n",
              "      <td>4.400000</td>\n",
              "      <td>1.000000</td>\n",
              "    </tr>\n",
              "  </tbody>\n",
              "</table>\n",
              "</div>\n",
              "      <button class=\"colab-df-convert\" onclick=\"convertToInteractive('df-510ed701-098b-4606-a576-0c926741f0e0')\"\n",
              "              title=\"Convert this dataframe to an interactive table.\"\n",
              "              style=\"display:none;\">\n",
              "        \n",
              "  <svg xmlns=\"http://www.w3.org/2000/svg\" height=\"24px\"viewBox=\"0 0 24 24\"\n",
              "       width=\"24px\">\n",
              "    <path d=\"M0 0h24v24H0V0z\" fill=\"none\"/>\n",
              "    <path d=\"M18.56 5.44l.94 2.06.94-2.06 2.06-.94-2.06-.94-.94-2.06-.94 2.06-2.06.94zm-11 1L8.5 8.5l.94-2.06 2.06-.94-2.06-.94L8.5 2.5l-.94 2.06-2.06.94zm10 10l.94 2.06.94-2.06 2.06-.94-2.06-.94-.94-2.06-.94 2.06-2.06.94z\"/><path d=\"M17.41 7.96l-1.37-1.37c-.4-.4-.92-.59-1.43-.59-.52 0-1.04.2-1.43.59L10.3 9.45l-7.72 7.72c-.78.78-.78 2.05 0 2.83L4 21.41c.39.39.9.59 1.41.59.51 0 1.02-.2 1.41-.59l7.78-7.78 2.81-2.81c.8-.78.8-2.07 0-2.86zM5.41 20L4 18.59l7.72-7.72 1.47 1.35L5.41 20z\"/>\n",
              "  </svg>\n",
              "      </button>\n",
              "      \n",
              "  <style>\n",
              "    .colab-df-container {\n",
              "      display:flex;\n",
              "      flex-wrap:wrap;\n",
              "      gap: 12px;\n",
              "    }\n",
              "\n",
              "    .colab-df-convert {\n",
              "      background-color: #E8F0FE;\n",
              "      border: none;\n",
              "      border-radius: 50%;\n",
              "      cursor: pointer;\n",
              "      display: none;\n",
              "      fill: #1967D2;\n",
              "      height: 32px;\n",
              "      padding: 0 0 0 0;\n",
              "      width: 32px;\n",
              "    }\n",
              "\n",
              "    .colab-df-convert:hover {\n",
              "      background-color: #E2EBFA;\n",
              "      box-shadow: 0px 1px 2px rgba(60, 64, 67, 0.3), 0px 1px 3px 1px rgba(60, 64, 67, 0.15);\n",
              "      fill: #174EA6;\n",
              "    }\n",
              "\n",
              "    [theme=dark] .colab-df-convert {\n",
              "      background-color: #3B4455;\n",
              "      fill: #D2E3FC;\n",
              "    }\n",
              "\n",
              "    [theme=dark] .colab-df-convert:hover {\n",
              "      background-color: #434B5C;\n",
              "      box-shadow: 0px 1px 3px 1px rgba(0, 0, 0, 0.15);\n",
              "      filter: drop-shadow(0px 1px 2px rgba(0, 0, 0, 0.3));\n",
              "      fill: #FFFFFF;\n",
              "    }\n",
              "  </style>\n",
              "\n",
              "      <script>\n",
              "        const buttonEl =\n",
              "          document.querySelector('#df-510ed701-098b-4606-a576-0c926741f0e0 button.colab-df-convert');\n",
              "        buttonEl.style.display =\n",
              "          google.colab.kernel.accessAllowed ? 'block' : 'none';\n",
              "\n",
              "        async function convertToInteractive(key) {\n",
              "          const element = document.querySelector('#df-510ed701-098b-4606-a576-0c926741f0e0');\n",
              "          const dataTable =\n",
              "            await google.colab.kernel.invokeFunction('convertToInteractive',\n",
              "                                                     [key], {});\n",
              "          if (!dataTable) return;\n",
              "\n",
              "          const docLinkHtml = 'Like what you see? Visit the ' +\n",
              "            '<a target=\"_blank\" href=https://colab.research.google.com/notebooks/data_table.ipynb>data table notebook</a>'\n",
              "            + ' to learn more about interactive tables.';\n",
              "          element.innerHTML = '';\n",
              "          dataTable['output_type'] = 'display_data';\n",
              "          await google.colab.output.renderOutput(dataTable, element);\n",
              "          const docLink = document.createElement('div');\n",
              "          docLink.innerHTML = docLinkHtml;\n",
              "          element.appendChild(docLink);\n",
              "        }\n",
              "      </script>\n",
              "    </div>\n",
              "  </div>\n",
              "  "
            ]
          },
          "metadata": {},
          "execution_count": 6
        }
      ]
    },
    {
      "cell_type": "code",
      "source": [
        "dat = upd_df \n",
        "count = dat[\"TARGET_5Yrs\"]\n",
        "distro = count.value_counts()\n",
        "#show the distrubution \n",
        "print(distro[1],\"number of rookies plays more than 5 years.\")\n",
        "print(distro[0],\"number of rookies plays less than 5 years.\")\n",
        "sns.countplot(count)"
      ],
      "metadata": {
        "colab": {
          "base_uri": "https://localhost:8080/",
          "height": 387
        },
        "id": "hIWarNsEmUpE",
        "outputId": "8bfc37e2-7a30-4dfb-d398-149ab52a1194"
      },
      "execution_count": null,
      "outputs": [
        {
          "output_type": "stream",
          "name": "stdout",
          "text": [
            "831 number of rookies plays more than 5 years.\n",
            "509 number of rookies plays less than 5 years.\n"
          ]
        },
        {
          "output_type": "stream",
          "name": "stderr",
          "text": [
            "/usr/local/lib/python3.7/dist-packages/seaborn/_decorators.py:43: FutureWarning: Pass the following variable as a keyword arg: x. From version 0.12, the only valid positional argument will be `data`, and passing other arguments without an explicit keyword will result in an error or misinterpretation.\n",
            "  FutureWarning\n"
          ]
        },
        {
          "output_type": "execute_result",
          "data": {
            "text/plain": [
              "<matplotlib.axes._subplots.AxesSubplot at 0x7f73b90c0650>"
            ]
          },
          "metadata": {},
          "execution_count": 7
        },
        {
          "output_type": "display_data",
          "data": {
            "text/plain": [
              "<Figure size 432x288 with 1 Axes>"
            ],
            "image/png": "[encoded data removed]"
          },
          "metadata": {
            "needs_background": "light"
          }
        }
      ]
    },
    {
      "cell_type": "markdown",
      "source": [
        "**1.0** ==> player plays more than 5 years\n",
        "\n",
        "**0.0** ==> player plays less than 5 years\n"
      ],
      "metadata": {
        "id": "5tPc25uUnQ8I"
      }
    },
    {
      "cell_type": "code",
      "source": [
        "#just to look at the average of a 5+ years player stats\n",
        "m_by_year = dat.groupby(\"TARGET_5Yrs\").mean()\n",
        "m_by_year"
      ],
      "metadata": {
        "colab": {
          "base_uri": "https://localhost:8080/",
          "height": 143
        },
        "id": "6HiP_SaEnp3H",
        "outputId": "3e30f2a0-0af7-4012-eff4-e3038202e268"
      },
      "execution_count": null,
      "outputs": [
        {
          "output_type": "execute_result",
          "data": {
            "text/plain": [
              "                    GP        MIN       PTS       FGM       FGA        FG%  \\\n",
              "TARGET_5Yrs                                                                  \n",
              "0.0          51.577603  14.252259  5.042829  1.946169  4.542043  42.388802   \n",
              "1.0          65.826715  19.690253  7.878700  3.047413  6.708063  45.260048   \n",
              "\n",
              "              3P Made       3PA        3P%       FTM       FTA        FT%  \\\n",
              "TARGET_5Yrs                                                                 \n",
              "0.0          0.229666  0.754617  19.377306  0.923379  1.321611  68.858546   \n",
              "1.0          0.258604  0.794224  19.265753  1.526955  2.128400  71.183394   \n",
              "\n",
              "                 OREB      DREB       REB       AST       STL       BLK  \\\n",
              "TARGET_5Yrs                                                               \n",
              "0.0          0.718271  1.531238  2.247544  1.221022  0.498232  0.253438   \n",
              "1.0          1.187726  2.328640  3.516486  1.752347  0.692178  0.439110   \n",
              "\n",
              "                  TOV  \n",
              "TARGET_5Yrs            \n",
              "0.0          0.942240  \n",
              "1.0          1.347533  "
            ],
            "text/html": [
              "\n",
              "  <div id=\"df-94195017-39e2-44b7-9c9c-127668b332b0\">\n",
              "    <div class=\"colab-df-container\">\n",
              "      <div>\n",
              "<style scoped>\n",
              "    .dataframe tbody tr th:only-of-type {\n",
              "        vertical-align: middle;\n",
              "    }\n",
              "\n",
              "    .dataframe tbody tr th {\n",
              "        vertical-align: top;\n",
              "    }\n",
              "\n",
              "    .dataframe thead th {\n",
              "        text-align: right;\n",
              "    }\n",
              "</style>\n",
              "<table border=\"1\" class=\"dataframe\">\n",
              "  <thead>\n",
              "    <tr style=\"text-align: right;\">\n",
              "      <th></th>\n",
              "      <th>GP</th>\n",
              "      <th>MIN</th>\n",
              "      <th>PTS</th>\n",
              "      <th>FGM</th>\n",
              "      <th>FGA</th>\n",
              "      <th>FG%</th>\n",
              "      <th>3P Made</th>\n",
              "      <th>3PA</th>\n",
              "      <th>3P%</th>\n",
              "      <th>FTM</th>\n",
              "      <th>FTA</th>\n",
              "      <th>FT%</th>\n",
              "      <th>OREB</th>\n",
              "      <th>DREB</th>\n",
              "      <th>REB</th>\n",
              "      <th>AST</th>\n",
              "      <th>STL</th>\n",
              "      <th>BLK</th>\n",
              "      <th>TOV</th>\n",
              "    </tr>\n",
              "    <tr>\n",
              "      <th>TARGET_5Yrs</th>\n",
              "      <th></th>\n",
              "      <th></th>\n",
              "      <th></th>\n",
              "      <th></th>\n",
              "      <th></th>\n",
              "      <th></th>\n",
              "      <th></th>\n",
              "      <th></th>\n",
              "      <th></th>\n",
              "      <th></th>\n",
              "      <th></th>\n",
              "      <th></th>\n",
              "      <th></th>\n",
              "      <th></th>\n",
              "      <th></th>\n",
              "      <th></th>\n",
              "      <th></th>\n",
              "      <th></th>\n",
              "      <th></th>\n",
              "    </tr>\n",
              "  </thead>\n",
              "  <tbody>\n",
              "    <tr>\n",
              "      <th>0.0</th>\n",
              "      <td>51.577603</td>\n",
              "      <td>14.252259</td>\n",
              "      <td>5.042829</td>\n",
              "      <td>1.946169</td>\n",
              "      <td>4.542043</td>\n",
              "      <td>42.388802</td>\n",
              "      <td>0.229666</td>\n",
              "      <td>0.754617</td>\n",
              "      <td>19.377306</td>\n",
              "      <td>0.923379</td>\n",
              "      <td>1.321611</td>\n",
              "      <td>68.858546</td>\n",
              "      <td>0.718271</td>\n",
              "      <td>1.531238</td>\n",
              "      <td>2.247544</td>\n",
              "      <td>1.221022</td>\n",
              "      <td>0.498232</td>\n",
              "      <td>0.253438</td>\n",
              "      <td>0.942240</td>\n",
              "    </tr>\n",
              "    <tr>\n",
              "      <th>1.0</th>\n",
              "      <td>65.826715</td>\n",
              "      <td>19.690253</td>\n",
              "      <td>7.878700</td>\n",
              "      <td>3.047413</td>\n",
              "      <td>6.708063</td>\n",
              "      <td>45.260048</td>\n",
              "      <td>0.258604</td>\n",
              "      <td>0.794224</td>\n",
              "      <td>19.265753</td>\n",
              "      <td>1.526955</td>\n",
              "      <td>2.128400</td>\n",
              "      <td>71.183394</td>\n",
              "      <td>1.187726</td>\n",
              "      <td>2.328640</td>\n",
              "      <td>3.516486</td>\n",
              "      <td>1.752347</td>\n",
              "      <td>0.692178</td>\n",
              "      <td>0.439110</td>\n",
              "      <td>1.347533</td>\n",
              "    </tr>\n",
              "  </tbody>\n",
              "</table>\n",
              "</div>\n",
              "      <button class=\"colab-df-convert\" onclick=\"convertToInteractive('df-94195017-39e2-44b7-9c9c-127668b332b0')\"\n",
              "              title=\"Convert this dataframe to an interactive table.\"\n",
              "              style=\"display:none;\">\n",
              "        \n",
              "  <svg xmlns=\"http://www.w3.org/2000/svg\" height=\"24px\"viewBox=\"0 0 24 24\"\n",
              "       width=\"24px\">\n",
              "    <path d=\"M0 0h24v24H0V0z\" fill=\"none\"/>\n",
              "    <path d=\"M18.56 5.44l.94 2.06.94-2.06 2.06-.94-2.06-.94-.94-2.06-.94 2.06-2.06.94zm-11 1L8.5 8.5l.94-2.06 2.06-.94-2.06-.94L8.5 2.5l-.94 2.06-2.06.94zm10 10l.94 2.06.94-2.06 2.06-.94-2.06-.94-.94-2.06-.94 2.06-2.06.94z\"/><path d=\"M17.41 7.96l-1.37-1.37c-.4-.4-.92-.59-1.43-.59-.52 0-1.04.2-1.43.59L10.3 9.45l-7.72 7.72c-.78.78-.78 2.05 0 2.83L4 21.41c.39.39.9.59 1.41.59.51 0 1.02-.2 1.41-.59l7.78-7.78 2.81-2.81c.8-.78.8-2.07 0-2.86zM5.41 20L4 18.59l7.72-7.72 1.47 1.35L5.41 20z\"/>\n",
              "  </svg>\n",
              "      </button>\n",
              "      \n",
              "  <style>\n",
              "    .colab-df-container {\n",
              "      display:flex;\n",
              "      flex-wrap:wrap;\n",
              "      gap: 12px;\n",
              "    }\n",
              "\n",
              "    .colab-df-convert {\n",
              "      background-color: #E8F0FE;\n",
              "      border: none;\n",
              "      border-radius: 50%;\n",
              "      cursor: pointer;\n",
              "      display: none;\n",
              "      fill: #1967D2;\n",
              "      height: 32px;\n",
              "      padding: 0 0 0 0;\n",
              "      width: 32px;\n",
              "    }\n",
              "\n",
              "    .colab-df-convert:hover {\n",
              "      background-color: #E2EBFA;\n",
              "      box-shadow: 0px 1px 2px rgba(60, 64, 67, 0.3), 0px 1px 3px 1px rgba(60, 64, 67, 0.15);\n",
              "      fill: #174EA6;\n",
              "    }\n",
              "\n",
              "    [theme=dark] .colab-df-convert {\n",
              "      background-color: #3B4455;\n",
              "      fill: #D2E3FC;\n",
              "    }\n",
              "\n",
              "    [theme=dark] .colab-df-convert:hover {\n",
              "      background-color: #434B5C;\n",
              "      box-shadow: 0px 1px 3px 1px rgba(0, 0, 0, 0.15);\n",
              "      filter: drop-shadow(0px 1px 2px rgba(0, 0, 0, 0.3));\n",
              "      fill: #FFFFFF;\n",
              "    }\n",
              "  </style>\n",
              "\n",
              "      <script>\n",
              "        const buttonEl =\n",
              "          document.querySelector('#df-94195017-39e2-44b7-9c9c-127668b332b0 button.colab-df-convert');\n",
              "        buttonEl.style.display =\n",
              "          google.colab.kernel.accessAllowed ? 'block' : 'none';\n",
              "\n",
              "        async function convertToInteractive(key) {\n",
              "          const element = document.querySelector('#df-94195017-39e2-44b7-9c9c-127668b332b0');\n",
              "          const dataTable =\n",
              "            await google.colab.kernel.invokeFunction('convertToInteractive',\n",
              "                                                     [key], {});\n",
              "          if (!dataTable) return;\n",
              "\n",
              "          const docLinkHtml = 'Like what you see? Visit the ' +\n",
              "            '<a target=\"_blank\" href=https://colab.research.google.com/notebooks/data_table.ipynb>data table notebook</a>'\n",
              "            + ' to learn more about interactive tables.';\n",
              "          element.innerHTML = '';\n",
              "          dataTable['output_type'] = 'display_data';\n",
              "          await google.colab.output.renderOutput(dataTable, element);\n",
              "          const docLink = document.createElement('div');\n",
              "          docLink.innerHTML = docLinkHtml;\n",
              "          element.appendChild(docLink);\n",
              "        }\n",
              "      </script>\n",
              "    </div>\n",
              "  </div>\n",
              "  "
            ]
          },
          "metadata": {},
          "execution_count": 8
        }
      ]
    },
    {
      "cell_type": "markdown",
      "source": [
        "Some examples of the distribution of games played and points, steal etc."
      ],
      "metadata": {
        "id": "f8lcOMyrW9bf"
      }
    },
    {
      "cell_type": "code",
      "source": [
        "scatter(x=\"GP\",y=\"PTS\", data = dat,alpha = 0.7,c = 'b',marker = \"v\")\n",
        "xlabel(\"Games Played\")\n",
        "ylabel(\"Points\")"
      ],
      "metadata": {
        "colab": {
          "base_uri": "https://localhost:8080/",
          "height": 296
        },
        "id": "iYx90qFhoCKM",
        "outputId": "a31a30b1-8773-4d2a-82ff-a84102ddb154"
      },
      "execution_count": null,
      "outputs": [
        {
          "output_type": "execute_result",
          "data": {
            "text/plain": [
              "Text(0, 0.5, 'Points')"
            ]
          },
          "metadata": {},
          "execution_count": 9
        },
        {
          "output_type": "display_data",
          "data": {
            "text/plain": [
              "<Figure size 432x288 with 1 Axes>"
            ],
            "image/png": "[encoded data removed]"
          },
          "metadata": {
            "needs_background": "light"
          }
        }
      ]
    },
    {
      "cell_type": "code",
      "source": [
        "sns.relplot(x=\"GP\",y=\"AST\", data = dat) #in seaborn i don't need to label the axis nice to see!"
      ],
      "metadata": {
        "colab": {
          "base_uri": "https://localhost:8080/",
          "height": 386
        },
        "id": "eA7mpADttGgX",
        "outputId": "65c4c00d-d703-4be4-c92f-bdd2ab02c1c3"
      },
      "execution_count": null,
      "outputs": [
        {
          "output_type": "execute_result",
          "data": {
            "text/plain": [
              "<seaborn.axisgrid.FacetGrid at 0x7f73b9008850>"
            ]
          },
          "metadata": {},
          "execution_count": 10
        },
        {
          "output_type": "display_data",
          "data": {
            "text/plain": [
              "<Figure size 360x360 with 1 Axes>"
            ],
            "image/png": "[encoded data removed]"
          },
          "metadata": {
            "needs_background": "light"
          }
        }
      ]
    },
    {
      "cell_type": "code",
      "source": [
        "sns.relplot(x=\"GP\",y =\"REB\",data = dat )"
      ],
      "metadata": {
        "colab": {
          "base_uri": "https://localhost:8080/",
          "height": 386
        },
        "id": "XqhLT9TiXOl3",
        "outputId": "e3b8a665-5fba-4312-8dc0-aff0df4683ac"
      },
      "execution_count": null,
      "outputs": [
        {
          "output_type": "execute_result",
          "data": {
            "text/plain": [
              "<seaborn.axisgrid.FacetGrid at 0x7f73b8b4ab10>"
            ]
          },
          "metadata": {},
          "execution_count": 11
        },
        {
          "output_type": "display_data",
          "data": {
            "text/plain": [
              "<Figure size 360x360 with 1 Axes>"
            ],
            "image/png": "[encoded data removed]"
          },
          "metadata": {
            "needs_background": "light"
          }
        }
      ]
    },
    {
      "cell_type": "code",
      "source": [
        "#Now Let's obtain the X and Y's\n",
        "x = dat.iloc[:,0:19]\n",
        "y = dat.iloc[:,-1] # TARGET_5Yrs (0,1)"
      ],
      "metadata": {
        "id": "iqun5ehQuO7S"
      },
      "execution_count": null,
      "outputs": []
    },
    {
      "cell_type": "code",
      "source": [
        "y"
      ],
      "metadata": {
        "colab": {
          "base_uri": "https://localhost:8080/"
        },
        "id": "5qW0bM9p67nN",
        "outputId": "7ef2a950-a190-44e6-a8dd-e547d0436d42"
      },
      "execution_count": null,
      "outputs": [
        {
          "output_type": "execute_result",
          "data": {
            "text/plain": [
              "0       0.0\n",
              "1       0.0\n",
              "2       0.0\n",
              "3       1.0\n",
              "4       1.0\n",
              "       ... \n",
              "1335    0.0\n",
              "1336    1.0\n",
              "1337    0.0\n",
              "1338    1.0\n",
              "1339    1.0\n",
              "Name: TARGET_5Yrs, Length: 1340, dtype: float64"
            ]
          },
          "metadata": {},
          "execution_count": 13
        }
      ]
    },
    {
      "cell_type": "code",
      "source": [
        "#SCALE THE DATA \n",
        "features = x.columns.values\n",
        "scaler = MinMaxScaler(feature_range = (0,1))\n",
        "scaler.fit(x)\n",
        "x = pd.DataFrame(scaler.transform(x))\n",
        "x.columns = features\n",
        "x"
      ],
      "metadata": {
        "id": "YJImed2OyY4H",
        "colab": {
          "base_uri": "https://localhost:8080/",
          "height": 424
        },
        "outputId": "d0ca4410-e664-42c8-f010-f16c83104b26"
      },
      "execution_count": null,
      "outputs": [
        {
          "output_type": "execute_result",
          "data": {
            "text/plain": [
              "            GP       MIN       PTS       FGM       FGA       FG%   3P Made  \\\n",
              "0     0.352113  0.642857  0.243636  0.232323  0.357895  0.218437  0.217391   \n",
              "1     0.338028  0.629630  0.236364  0.171717  0.310526  0.116232  0.304348   \n",
              "2     0.887324  0.322751  0.163636  0.171717  0.205263  0.368737  0.173913   \n",
              "3     0.661972  0.224868  0.181818  0.202020  0.247368  0.376754  0.043478   \n",
              "4     0.521127  0.222222  0.138182  0.131313  0.115789  0.573146  0.000000   \n",
              "...        ...       ...       ...       ...       ...       ...       ...   \n",
              "1335  0.971831  0.335979  0.130909  0.131313  0.147368  0.390782  0.000000   \n",
              "1336  0.802817  0.251323  0.116364  0.121212  0.173684  0.240481  0.043478   \n",
              "1337  0.450704  0.238095  0.170909  0.191919  0.163158  0.625251  0.000000   \n",
              "1338  0.577465  0.235450  0.138182  0.141414  0.157895  0.402806  0.000000   \n",
              "1339  0.507042  0.227513  0.134545  0.131313  0.189474  0.262525  0.173913   \n",
              "\n",
              "           3PA    3P%       FTM       FTA    FT%      OREB      DREB  \\\n",
              "0     0.323077  0.250  0.207792  0.225490  0.699  0.132075  0.340426   \n",
              "1     0.430769  0.235  0.337662  0.333333  0.765  0.094340  0.191489   \n",
              "2     0.261538  0.244  0.116883  0.127451  0.670  0.094340  0.159574   \n",
              "3     0.076923  0.226  0.116883  0.127451  0.689  0.188679  0.074468   \n",
              "4     0.015385  0.000  0.168831  0.186275  0.674  0.188679  0.138298   \n",
              "...        ...    ...       ...       ...    ...       ...       ...   \n",
              "1335  0.030769  0.143  0.155844  0.147059  0.792  0.075472  0.063830   \n",
              "1336  0.107692  0.167  0.103896  0.098039  0.794  0.075472  0.095745   \n",
              "1337  0.000000  0.000  0.129870  0.156863  0.643  0.283019  0.223404   \n",
              "1338  0.030769  0.100  0.155844  0.176471  0.625  0.037736  0.021277   \n",
              "1339  0.200000  0.333  0.090909  0.098039  0.673  0.037736  0.053191   \n",
              "\n",
              "           REB       AST   STL       BLK       TOV  \n",
              "0     0.279412  0.179245  0.16  0.102564  0.279070  \n",
              "1     0.154412  0.349057  0.44  0.128205  0.348837  \n",
              "2     0.139706  0.094340  0.20  0.076923  0.209302  \n",
              "3     0.117647  0.075472  0.24  0.025641  0.209302  \n",
              "4     0.161765  0.028302  0.12  0.102564  0.162791  \n",
              "...        ...       ...   ...       ...       ...  \n",
              "1335  0.066176  0.235849  0.24  0.051282  0.162791  \n",
              "1336  0.088235  0.216981  0.32  0.000000  0.279070  \n",
              "1337  0.257353  0.028302  0.12  0.102564  0.186047  \n",
              "1338  0.029412  0.207547  0.16  0.025641  0.162791  \n",
              "1339  0.044118  0.132075  0.28  0.025641  0.186047  \n",
              "\n",
              "[1340 rows x 19 columns]"
            ],
            "text/html": [
              "\n",
              "  <div id=\"df-11ce1063-472c-42b2-876d-b6d538b4395e\">\n",
              "    <div class=\"colab-df-container\">\n",
              "      <div>\n",
              "<style scoped>\n",
              "    .dataframe tbody tr th:only-of-type {\n",
              "        vertical-align: middle;\n",
              "    }\n",
              "\n",
              "    .dataframe tbody tr th {\n",
              "        vertical-align: top;\n",
              "    }\n",
              "\n",
              "    .dataframe thead th {\n",
              "        text-align: right;\n",
              "    }\n",
              "</style>\n",
              "<table border=\"1\" class=\"dataframe\">\n",
              "  <thead>\n",
              "    <tr style=\"text-align: right;\">\n",
              "      <th></th>\n",
              "      <th>GP</th>\n",
              "      <th>MIN</th>\n",
              "      <th>PTS</th>\n",
              "      <th>FGM</th>\n",
              "      <th>FGA</th>\n",
              "      <th>FG%</th>\n",
              "      <th>3P Made</th>\n",
              "      <th>3PA</th>\n",
              "      <th>3P%</th>\n",
              "      <th>FTM</th>\n",
              "      <th>FTA</th>\n",
              "      <th>FT%</th>\n",
              "      <th>OREB</th>\n",
              "      <th>DREB</th>\n",
              "      <th>REB</th>\n",
              "      <th>AST</th>\n",
              "      <th>STL</th>\n",
              "      <th>BLK</th>\n",
              "      <th>TOV</th>\n",
              "    </tr>\n",
              "  </thead>\n",
              "  <tbody>\n",
              "    <tr>\n",
              "      <th>0</th>\n",
              "      <td>0.352113</td>\n",
              "      <td>0.642857</td>\n",
              "      <td>0.243636</td>\n",
              "      <td>0.232323</td>\n",
              "      <td>0.357895</td>\n",
              "      <td>0.218437</td>\n",
              "      <td>0.217391</td>\n",
              "      <td>0.323077</td>\n",
              "      <td>0.250</td>\n",
              "      <td>0.207792</td>\n",
              "      <td>0.225490</td>\n",
              "      <td>0.699</td>\n",
              "      <td>0.132075</td>\n",
              "      <td>0.340426</td>\n",
              "      <td>0.279412</td>\n",
              "      <td>0.179245</td>\n",
              "      <td>0.16</td>\n",
              "      <td>0.102564</td>\n",
              "      <td>0.279070</td>\n",
              "    </tr>\n",
              "    <tr>\n",
              "      <th>1</th>\n",
              "      <td>0.338028</td>\n",
              "      <td>0.629630</td>\n",
              "      <td>0.236364</td>\n",
              "      <td>0.171717</td>\n",
              "      <td>0.310526</td>\n",
              "      <td>0.116232</td>\n",
              "      <td>0.304348</td>\n",
              "      <td>0.430769</td>\n",
              "      <td>0.235</td>\n",
              "      <td>0.337662</td>\n",
              "      <td>0.333333</td>\n",
              "      <td>0.765</td>\n",
              "      <td>0.094340</td>\n",
              "      <td>0.191489</td>\n",
              "      <td>0.154412</td>\n",
              "      <td>0.349057</td>\n",
              "      <td>0.44</td>\n",
              "      <td>0.128205</td>\n",
              "      <td>0.348837</td>\n",
              "    </tr>\n",
              "    <tr>\n",
              "      <th>2</th>\n",
              "      <td>0.887324</td>\n",
              "      <td>0.322751</td>\n",
              "      <td>0.163636</td>\n",
              "      <td>0.171717</td>\n",
              "      <td>0.205263</td>\n",
              "      <td>0.368737</td>\n",
              "      <td>0.173913</td>\n",
              "      <td>0.261538</td>\n",
              "      <td>0.244</td>\n",
              "      <td>0.116883</td>\n",
              "      <td>0.127451</td>\n",
              "      <td>0.670</td>\n",
              "      <td>0.094340</td>\n",
              "      <td>0.159574</td>\n",
              "      <td>0.139706</td>\n",
              "      <td>0.094340</td>\n",
              "      <td>0.20</td>\n",
              "      <td>0.076923</td>\n",
              "      <td>0.209302</td>\n",
              "    </tr>\n",
              "    <tr>\n",
              "      <th>3</th>\n",
              "      <td>0.661972</td>\n",
              "      <td>0.224868</td>\n",
              "      <td>0.181818</td>\n",
              "      <td>0.202020</td>\n",
              "      <td>0.247368</td>\n",
              "      <td>0.376754</td>\n",
              "      <td>0.043478</td>\n",
              "      <td>0.076923</td>\n",
              "      <td>0.226</td>\n",
              "      <td>0.116883</td>\n",
              "      <td>0.127451</td>\n",
              "      <td>0.689</td>\n",
              "      <td>0.188679</td>\n",
              "      <td>0.074468</td>\n",
              "      <td>0.117647</td>\n",
              "      <td>0.075472</td>\n",
              "      <td>0.24</td>\n",
              "      <td>0.025641</td>\n",
              "      <td>0.209302</td>\n",
              "    </tr>\n",
              "    <tr>\n",
              "      <th>4</th>\n",
              "      <td>0.521127</td>\n",
              "      <td>0.222222</td>\n",
              "      <td>0.138182</td>\n",
              "      <td>0.131313</td>\n",
              "      <td>0.115789</td>\n",
              "      <td>0.573146</td>\n",
              "      <td>0.000000</td>\n",
              "      <td>0.015385</td>\n",
              "      <td>0.000</td>\n",
              "      <td>0.168831</td>\n",
              "      <td>0.186275</td>\n",
              "      <td>0.674</td>\n",
              "      <td>0.188679</td>\n",
              "      <td>0.138298</td>\n",
              "      <td>0.161765</td>\n",
              "      <td>0.028302</td>\n",
              "      <td>0.12</td>\n",
              "      <td>0.102564</td>\n",
              "      <td>0.162791</td>\n",
              "    </tr>\n",
              "    <tr>\n",
              "      <th>...</th>\n",
              "      <td>...</td>\n",
              "      <td>...</td>\n",
              "      <td>...</td>\n",
              "      <td>...</td>\n",
              "      <td>...</td>\n",
              "      <td>...</td>\n",
              "      <td>...</td>\n",
              "      <td>...</td>\n",
              "      <td>...</td>\n",
              "      <td>...</td>\n",
              "      <td>...</td>\n",
              "      <td>...</td>\n",
              "      <td>...</td>\n",
              "      <td>...</td>\n",
              "      <td>...</td>\n",
              "      <td>...</td>\n",
              "      <td>...</td>\n",
              "      <td>...</td>\n",
              "      <td>...</td>\n",
              "    </tr>\n",
              "    <tr>\n",
              "      <th>1335</th>\n",
              "      <td>0.971831</td>\n",
              "      <td>0.335979</td>\n",
              "      <td>0.130909</td>\n",
              "      <td>0.131313</td>\n",
              "      <td>0.147368</td>\n",
              "      <td>0.390782</td>\n",
              "      <td>0.000000</td>\n",
              "      <td>0.030769</td>\n",
              "      <td>0.143</td>\n",
              "      <td>0.155844</td>\n",
              "      <td>0.147059</td>\n",
              "      <td>0.792</td>\n",
              "      <td>0.075472</td>\n",
              "      <td>0.063830</td>\n",
              "      <td>0.066176</td>\n",
              "      <td>0.235849</td>\n",
              "      <td>0.24</td>\n",
              "      <td>0.051282</td>\n",
              "      <td>0.162791</td>\n",
              "    </tr>\n",
              "    <tr>\n",
              "      <th>1336</th>\n",
              "      <td>0.802817</td>\n",
              "      <td>0.251323</td>\n",
              "      <td>0.116364</td>\n",
              "      <td>0.121212</td>\n",
              "      <td>0.173684</td>\n",
              "      <td>0.240481</td>\n",
              "      <td>0.043478</td>\n",
              "      <td>0.107692</td>\n",
              "      <td>0.167</td>\n",
              "      <td>0.103896</td>\n",
              "      <td>0.098039</td>\n",
              "      <td>0.794</td>\n",
              "      <td>0.075472</td>\n",
              "      <td>0.095745</td>\n",
              "      <td>0.088235</td>\n",
              "      <td>0.216981</td>\n",
              "      <td>0.32</td>\n",
              "      <td>0.000000</td>\n",
              "      <td>0.279070</td>\n",
              "    </tr>\n",
              "    <tr>\n",
              "      <th>1337</th>\n",
              "      <td>0.450704</td>\n",
              "      <td>0.238095</td>\n",
              "      <td>0.170909</td>\n",
              "      <td>0.191919</td>\n",
              "      <td>0.163158</td>\n",
              "      <td>0.625251</td>\n",
              "      <td>0.000000</td>\n",
              "      <td>0.000000</td>\n",
              "      <td>0.000</td>\n",
              "      <td>0.129870</td>\n",
              "      <td>0.156863</td>\n",
              "      <td>0.643</td>\n",
              "      <td>0.283019</td>\n",
              "      <td>0.223404</td>\n",
              "      <td>0.257353</td>\n",
              "      <td>0.028302</td>\n",
              "      <td>0.12</td>\n",
              "      <td>0.102564</td>\n",
              "      <td>0.186047</td>\n",
              "    </tr>\n",
              "    <tr>\n",
              "      <th>1338</th>\n",
              "      <td>0.577465</td>\n",
              "      <td>0.235450</td>\n",
              "      <td>0.138182</td>\n",
              "      <td>0.141414</td>\n",
              "      <td>0.157895</td>\n",
              "      <td>0.402806</td>\n",
              "      <td>0.000000</td>\n",
              "      <td>0.030769</td>\n",
              "      <td>0.100</td>\n",
              "      <td>0.155844</td>\n",
              "      <td>0.176471</td>\n",
              "      <td>0.625</td>\n",
              "      <td>0.037736</td>\n",
              "      <td>0.021277</td>\n",
              "      <td>0.029412</td>\n",
              "      <td>0.207547</td>\n",
              "      <td>0.16</td>\n",
              "      <td>0.025641</td>\n",
              "      <td>0.162791</td>\n",
              "    </tr>\n",
              "    <tr>\n",
              "      <th>1339</th>\n",
              "      <td>0.507042</td>\n",
              "      <td>0.227513</td>\n",
              "      <td>0.134545</td>\n",
              "      <td>0.131313</td>\n",
              "      <td>0.189474</td>\n",
              "      <td>0.262525</td>\n",
              "      <td>0.173913</td>\n",
              "      <td>0.200000</td>\n",
              "      <td>0.333</td>\n",
              "      <td>0.090909</td>\n",
              "      <td>0.098039</td>\n",
              "      <td>0.673</td>\n",
              "      <td>0.037736</td>\n",
              "      <td>0.053191</td>\n",
              "      <td>0.044118</td>\n",
              "      <td>0.132075</td>\n",
              "      <td>0.28</td>\n",
              "      <td>0.025641</td>\n",
              "      <td>0.186047</td>\n",
              "    </tr>\n",
              "  </tbody>\n",
              "</table>\n",
              "<p>1340 rows × 19 columns</p>\n",
              "</div>\n",
              "      <button class=\"colab-df-convert\" onclick=\"convertToInteractive('df-11ce1063-472c-42b2-876d-b6d538b4395e')\"\n",
              "              title=\"Convert this dataframe to an interactive table.\"\n",
              "              style=\"display:none;\">\n",
              "        \n",
              "  <svg xmlns=\"http://www.w3.org/2000/svg\" height=\"24px\"viewBox=\"0 0 24 24\"\n",
              "       width=\"24px\">\n",
              "    <path d=\"M0 0h24v24H0V0z\" fill=\"none\"/>\n",
              "    <path d=\"M18.56 5.44l.94 2.06.94-2.06 2.06-.94-2.06-.94-.94-2.06-.94 2.06-2.06.94zm-11 1L8.5 8.5l.94-2.06 2.06-.94-2.06-.94L8.5 2.5l-.94 2.06-2.06.94zm10 10l.94 2.06.94-2.06 2.06-.94-2.06-.94-.94-2.06-.94 2.06-2.06.94z\"/><path d=\"M17.41 7.96l-1.37-1.37c-.4-.4-.92-.59-1.43-.59-.52 0-1.04.2-1.43.59L10.3 9.45l-7.72 7.72c-.78.78-.78 2.05 0 2.83L4 21.41c.39.39.9.59 1.41.59.51 0 1.02-.2 1.41-.59l7.78-7.78 2.81-2.81c.8-.78.8-2.07 0-2.86zM5.41 20L4 18.59l7.72-7.72 1.47 1.35L5.41 20z\"/>\n",
              "  </svg>\n",
              "      </button>\n",
              "      \n",
              "  <style>\n",
              "    .colab-df-container {\n",
              "      display:flex;\n",
              "      flex-wrap:wrap;\n",
              "      gap: 12px;\n",
              "    }\n",
              "\n",
              "    .colab-df-convert {\n",
              "      background-color: #E8F0FE;\n",
              "      border: none;\n",
              "      border-radius: 50%;\n",
              "      cursor: pointer;\n",
              "      display: none;\n",
              "      fill: #1967D2;\n",
              "      height: 32px;\n",
              "      padding: 0 0 0 0;\n",
              "      width: 32px;\n",
              "    }\n",
              "\n",
              "    .colab-df-convert:hover {\n",
              "      background-color: #E2EBFA;\n",
              "      box-shadow: 0px 1px 2px rgba(60, 64, 67, 0.3), 0px 1px 3px 1px rgba(60, 64, 67, 0.15);\n",
              "      fill: #174EA6;\n",
              "    }\n",
              "\n",
              "    [theme=dark] .colab-df-convert {\n",
              "      background-color: #3B4455;\n",
              "      fill: #D2E3FC;\n",
              "    }\n",
              "\n",
              "    [theme=dark] .colab-df-convert:hover {\n",
              "      background-color: #434B5C;\n",
              "      box-shadow: 0px 1px 3px 1px rgba(0, 0, 0, 0.15);\n",
              "      filter: drop-shadow(0px 1px 2px rgba(0, 0, 0, 0.3));\n",
              "      fill: #FFFFFF;\n",
              "    }\n",
              "  </style>\n",
              "\n",
              "      <script>\n",
              "        const buttonEl =\n",
              "          document.querySelector('#df-11ce1063-472c-42b2-876d-b6d538b4395e button.colab-df-convert');\n",
              "        buttonEl.style.display =\n",
              "          google.colab.kernel.accessAllowed ? 'block' : 'none';\n",
              "\n",
              "        async function convertToInteractive(key) {\n",
              "          const element = document.querySelector('#df-11ce1063-472c-42b2-876d-b6d538b4395e');\n",
              "          const dataTable =\n",
              "            await google.colab.kernel.invokeFunction('convertToInteractive',\n",
              "                                                     [key], {});\n",
              "          if (!dataTable) return;\n",
              "\n",
              "          const docLinkHtml = 'Like what you see? Visit the ' +\n",
              "            '<a target=\"_blank\" href=https://colab.research.google.com/notebooks/data_table.ipynb>data table notebook</a>'\n",
              "            + ' to learn more about interactive tables.';\n",
              "          element.innerHTML = '';\n",
              "          dataTable['output_type'] = 'display_data';\n",
              "          await google.colab.output.renderOutput(dataTable, element);\n",
              "          const docLink = document.createElement('div');\n",
              "          docLink.innerHTML = docLinkHtml;\n",
              "          element.appendChild(docLink);\n",
              "        }\n",
              "      </script>\n",
              "    </div>\n",
              "  </div>\n",
              "  "
            ]
          },
          "metadata": {},
          "execution_count": 14
        }
      ]
    },
    {
      "cell_type": "markdown",
      "source": [
        "Split **Test** and **Training** data"
      ],
      "metadata": {
        "id": "c4EFEePG0fSc"
      }
    },
    {
      "cell_type": "code",
      "source": [
        "xtr,xts,ytr,yts = train_test_split(x,y,train_size=0.9)\n"
      ],
      "metadata": {
        "id": "lB_goEqv0WVM"
      },
      "execution_count": null,
      "outputs": []
    },
    {
      "cell_type": "markdown",
      "source": [
        "**Fun Time Begins**"
      ],
      "metadata": {
        "id": "N8IivqN403ym"
      }
    },
    {
      "cell_type": "code",
      "source": [
        "#sigmoid function\n",
        "def sigmoid(x):\n",
        "  return 1/(1+np.exp(-x))"
      ],
      "metadata": {
        "id": "uGcu02-uk2hh"
      },
      "execution_count": null,
      "outputs": []
    },
    {
      "cell_type": "code",
      "source": [
        "#Log Regression Algorithm\n",
        "def algo(x,y,lr,N):\n",
        "  #x,y,learning rate, itarations(epoch,N)\n",
        "  m = xtr.shape[1] # num of feature\n",
        "  n = xtr.shape[0] #training example\n",
        "  W = np.zeros((n,1))\n",
        "  B = 0\n",
        "  loss_list = []\n",
        "  ynp = y.to_numpy().reshape(1206,1)\n",
        "  for i in range(N):  \n",
        "    Z = np.dot(W.T, x) + B\n",
        "    A = sigmoid(Z)       \n",
        "    #Loss(L) fn\n",
        "    L = -(1/m)*np.sum( ynp*np.log(A) + (1-ynp)*np.log(1-A))        \n",
        "    #Gradient Descent\n",
        "    dW = (1/m)*np.dot(A-ynp, x.T)\n",
        "    dB = (1/m)*np.sum(A - ynp)        \n",
        "    W = W - lr*dW\n",
        "    B = B - lr*dB\n",
        "    #upgrading cost fn as we go\n",
        "    loss_list.append(L)       \n",
        "    if(i%(N/10) == 0):\n",
        "      print(\"loss after \",i,\"epcoh is: \",L) \n",
        "  return W, B, loss_list"
      ],
      "metadata": {
        "id": "gkp7ks50_fzJ"
      },
      "execution_count": null,
      "outputs": []
    },
    {
      "cell_type": "code",
      "source": [
        "N = 10**4\n",
        "lr = 10**-6\n",
        "win,b,loss = algo(xtr,ytr,lr,N)\n",
        "\n"
      ],
      "metadata": {
        "colab": {
          "base_uri": "https://localhost:8080/"
        },
        "id": "IZPo-yoC1VAG",
        "outputId": "98b3232e-ff70-40d1-c149-0bb34429c5e3"
      },
      "execution_count": null,
      "outputs": [
        {
          "output_type": "stream",
          "name": "stdout",
          "text": [
            "loss after  0 epcoh is:  835.935499755294\n",
            "loss after  1000 epcoh is:  815.7168356661822\n",
            "loss after  2000 epcoh is:  804.9161311463429\n",
            "loss after  3000 epcoh is:  799.0308480897423\n",
            "loss after  4000 epcoh is:  795.7276585942898\n",
            "loss after  5000 epcoh is:  793.7933651176044\n",
            "loss after  6000 epcoh is:  792.592212459614\n",
            "loss after  7000 epcoh is:  791.7881841322707\n",
            "loss after  8000 epcoh is:  791.2022981045187\n",
            "loss after  9000 epcoh is:  790.7385879144672\n"
          ]
        }
      ]
    },
    {
      "cell_type": "code",
      "source": [
        "sns.lineplot(np.arange(N), loss)\n"
      ],
      "metadata": {
        "colab": {
          "base_uri": "https://localhost:8080/",
          "height": 337
        },
        "id": "hnllUAuMpomB",
        "outputId": "3e6f6eba-0ce4-4d28-d244-6cb38a403ba8"
      },
      "execution_count": null,
      "outputs": [
        {
          "output_type": "stream",
          "name": "stderr",
          "text": [
            "/usr/local/lib/python3.7/dist-packages/seaborn/_decorators.py:43: FutureWarning: Pass the following variables as keyword args: x, y. From version 0.12, the only valid positional argument will be `data`, and passing other arguments without an explicit keyword will result in an error or misinterpretation.\n",
            "  FutureWarning\n"
          ]
        },
        {
          "output_type": "execute_result",
          "data": {
            "text/plain": [
              "<matplotlib.axes._subplots.AxesSubplot at 0x7f73b548ce10>"
            ]
          },
          "metadata": {},
          "execution_count": 30
        },
        {
          "output_type": "display_data",
          "data": {
            "text/plain": [
              "<Figure size 432x288 with 1 Axes>"
            ],
            "image/png": "[encoded data removed]"
          },
          "metadata": {
            "needs_background": "light"
          }
        }
      ]
    },
    {
      "cell_type": "code",
      "source": [
        "len(loss)"
      ],
      "metadata": {
        "colab": {
          "base_uri": "https://localhost:8080/"
        },
        "id": "JpCrqqyHjZJL",
        "outputId": "d921479b-76ca-4db6-aa99-0dad72c4f417"
      },
      "execution_count": null,
      "outputs": [
        {
          "output_type": "execute_result",
          "data": {
            "text/plain": [
              "10000"
            ]
          },
          "metadata": {},
          "execution_count": 38
        }
      ]
    },
    {
      "cell_type": "code",
      "source": [
        "#accuracy\n",
        "def accuracy(X, Y, wei, B):\n",
        "    print(\"weigths: \", wei.shape)\n",
        "    print(\"X: \",X.shape)\n",
        "    Z = np.dot(wei.T, X) + B\n",
        "    A = sigmoid(Z)\n",
        "    \n",
        "    A = A > 0.5\n",
        "    \n",
        "    A = np.array(A, dtype = 'int64')\n",
        "    \n",
        "    acc = (1 - np.sum(np.absolute(A - Y))/Y.shape[1])*100\n",
        "    \n",
        "    print(\"Accuracy of the model is : \", round(acc, 2), \"%\")"
      ],
      "metadata": {
        "id": "TOa62NzJn2b_"
      },
      "execution_count": null,
      "outputs": []
    },
    {
      "cell_type": "code",
      "source": [
        "type(win)"
      ],
      "metadata": {
        "colab": {
          "base_uri": "https://localhost:8080/"
        },
        "id": "ccnAIjLbdtne",
        "outputId": "9bae6c00-b6a7-46a0-aa91-d1b546eb419f"
      },
      "execution_count": null,
      "outputs": [
        {
          "output_type": "execute_result",
          "data": {
            "text/plain": [
              "numpy.ndarray"
            ]
          },
          "metadata": {},
          "execution_count": 39
        }
      ]
    },
    {
      "cell_type": "code",
      "source": [
        "accuracy(xts, yts, win, b)"
      ],
      "metadata": {
        "colab": {
          "base_uri": "https://localhost:8080/",
          "height": 356
        },
        "id": "qD7R2SAywb6r",
        "outputId": "ac5ce22a-70e9-4a5d-9de4-cfdf9277c853"
      },
      "execution_count": null,
      "outputs": [
        {
          "output_type": "stream",
          "name": "stdout",
          "text": [
            "weigths:  (1206, 1206)\n",
            "X:  (134, 19)\n"
          ]
        },
        {
          "output_type": "error",
          "ename": "ValueError",
          "evalue": "ignored",
          "traceback": [
            "\u001b[0;31m---------------------------------------------------------------------------\u001b[0m",
            "\u001b[0;31mValueError\u001b[0m                                Traceback (most recent call last)",
            "\u001b[0;32m<ipython-input-32-57281ec29554>\u001b[0m in \u001b[0;36m<module>\u001b[0;34m\u001b[0m\n\u001b[0;32m----> 1\u001b[0;31m \u001b[0maccuracy\u001b[0m\u001b[0;34m(\u001b[0m\u001b[0mxts\u001b[0m\u001b[0;34m,\u001b[0m \u001b[0myts\u001b[0m\u001b[0;34m,\u001b[0m \u001b[0mwin\u001b[0m\u001b[0;34m,\u001b[0m \u001b[0mb\u001b[0m\u001b[0;34m)\u001b[0m\u001b[0;34m\u001b[0m\u001b[0;34m\u001b[0m\u001b[0m\n\u001b[0m",
            "\u001b[0;32m<ipython-input-31-425c37f2585d>\u001b[0m in \u001b[0;36maccuracy\u001b[0;34m(X, Y, wei, B)\u001b[0m\n\u001b[1;32m      3\u001b[0m     \u001b[0mprint\u001b[0m\u001b[0;34m(\u001b[0m\u001b[0;34m\"weigths: \"\u001b[0m\u001b[0;34m,\u001b[0m \u001b[0mwei\u001b[0m\u001b[0;34m.\u001b[0m\u001b[0mshape\u001b[0m\u001b[0;34m)\u001b[0m\u001b[0;34m\u001b[0m\u001b[0;34m\u001b[0m\u001b[0m\n\u001b[1;32m      4\u001b[0m     \u001b[0mprint\u001b[0m\u001b[0;34m(\u001b[0m\u001b[0;34m\"X: \"\u001b[0m\u001b[0;34m,\u001b[0m\u001b[0mX\u001b[0m\u001b[0;34m.\u001b[0m\u001b[0mshape\u001b[0m\u001b[0;34m)\u001b[0m\u001b[0;34m\u001b[0m\u001b[0;34m\u001b[0m\u001b[0m\n\u001b[0;32m----> 5\u001b[0;31m     \u001b[0mZ\u001b[0m \u001b[0;34m=\u001b[0m \u001b[0mnp\u001b[0m\u001b[0;34m.\u001b[0m\u001b[0mdot\u001b[0m\u001b[0;34m(\u001b[0m\u001b[0mwei\u001b[0m\u001b[0;34m.\u001b[0m\u001b[0mT\u001b[0m\u001b[0;34m,\u001b[0m \u001b[0mX\u001b[0m\u001b[0;34m)\u001b[0m \u001b[0;34m+\u001b[0m \u001b[0mB\u001b[0m\u001b[0;34m\u001b[0m\u001b[0;34m\u001b[0m\u001b[0m\n\u001b[0m\u001b[1;32m      6\u001b[0m     \u001b[0mA\u001b[0m \u001b[0;34m=\u001b[0m \u001b[0msigmoid\u001b[0m\u001b[0;34m(\u001b[0m\u001b[0mZ\u001b[0m\u001b[0;34m)\u001b[0m\u001b[0;34m\u001b[0m\u001b[0;34m\u001b[0m\u001b[0m\n\u001b[1;32m      7\u001b[0m \u001b[0;34m\u001b[0m\u001b[0m\n",
            "\u001b[0;32m<__array_function__ internals>\u001b[0m in \u001b[0;36mdot\u001b[0;34m(*args, **kwargs)\u001b[0m\n",
            "\u001b[0;31mValueError\u001b[0m: shapes (1206,1206) and (134,19) not aligned: 1206 (dim 1) != 134 (dim 0)"
          ]
        }
      ]
    },
    {
      "cell_type": "code",
      "source": [
        "#Test and error"
      ],
      "metadata": {
        "id": "g4m6IiP4_xj3"
      },
      "execution_count": null,
      "outputs": []
    }
  ]
}