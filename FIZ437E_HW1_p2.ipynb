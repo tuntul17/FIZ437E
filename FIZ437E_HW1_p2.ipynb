{
  "nbformat": 4,
  "nbformat_minor": 0,
  "metadata": {
    "colab": {
      "provenance": [],
      "collapsed_sections": [],
      "authorship_tag": "ABX9TyPEHOgs+mUE+rX6nWt9E1X7",
      "include_colab_link": true
    },
    "kernelspec": {
      "name": "python3",
      "display_name": "Python 3"
    },
    "language_info": {
      "name": "python"
    }
  },
  "cells": [
    {
      "cell_type": "markdown",
      "metadata": {
        "id": "view-in-github",
        "colab_type": "text"
      },
      "source": [
        "<a href=\"https://colab.research.google.com/github/tuntul17/FIZ437E/blob/main/FIZ437E_HW1_p2.ipynb\" target=\"_parent\"><img src=\"https://colab.research.google.com/assets/colab-badge.svg\" alt=\"Open In Colab\"/></a>"
      ]
    },
    {
      "cell_type": "code",
      "execution_count": 158,
      "metadata": {
        "id": "R6LKWq55LMTh"
      },
      "outputs": [],
      "source": [
        "#IMPORTING NECESSARY LIBRARİES\n",
        "import math as mt\n",
        "import numpy as np\n",
        "from pylab import *\n",
        "import scipy.special as sp\n",
        "from sklearn.model_selection import train_test_split\n",
        "from sklearn.linear_model import LinearRegression\n",
        "from sklearn.preprocessing import PolynomialFeatures\n",
        "from sklearn.metrics import r2_score,mean_squared_error"
      ]
    },
    {
      "cell_type": "code",
      "source": [
        "#J0(x) => (0,8)\n",
        "x = np.linspace(0,8,100)\n",
        "J0 = sp.jv(0,x)\n",
        "plot(x,J0)"
      ],
      "metadata": {
        "colab": {
          "base_uri": "https://localhost:8080/",
          "height": 282
        },
        "id": "fKeMyG-Xo0qv",
        "outputId": "03fdb1a1-ae9f-4e5f-d3b6-36c9c123ca92"
      },
      "execution_count": 159,
      "outputs": [
        {
          "output_type": "execute_result",
          "data": {
            "text/plain": [
              "[<matplotlib.lines.Line2D at 0x7efe46f1dcd0>]"
            ]
          },
          "metadata": {},
          "execution_count": 159
        },
        {
          "output_type": "display_data",
          "data": {
            "text/plain": [
              "<Figure size 432x288 with 1 Axes>"
            ],
            "image/png": "[encoded data removed]"
          },
          "metadata": {
            "needs_background": "light"
          }
        }
      ]
    },
    {
      "cell_type": "code",
      "source": [
        "#Now add the noise\n",
        "# J_0 (x) + 1/10 * N(0,1) \n",
        "# 20, 100, 1000, 10ˆ4 data points in order\n",
        "x0 = np.linspace(0,8,10)\n",
        "j0 = sp.jv(0,x0) + np.random.normal(0,1,len(x0))/10\n",
        "x20 = np.linspace(0,8,20)\n",
        "j20 = sp.jv(0,x20) +np.random.normal(0,1,len(x20))/10\n",
        "x100 = np.linspace(0,8,100)\n",
        "j100 = sp.jv(0,x100) + np.random.normal(0,1,len(x100))/10\n",
        "x13 = np.linspace(0,8,1000) \n",
        "j13 = sp.jv(0,x13) + np.random.normal(0,1,len(x13))/10\n",
        "x14 = np.linspace(0,8,10**4)\n",
        "j14 = sp.jv(0,x14) + np.random.normal(0,1,len(x14))/10"
      ],
      "metadata": {
        "id": "xVajhavBL8Mp"
      },
      "execution_count": 161,
      "outputs": []
    },
    {
      "cell_type": "code",
      "source": [
        "scatter(x0,j0,marker = \"1\",c=\"r\")\n",
        "plot(x,J0)"
      ],
      "metadata": {
        "id": "mFolKitPWxpg"
      },
      "execution_count": null,
      "outputs": []
    },
    {
      "cell_type": "code",
      "source": [
        "#SEPARETE TRAINING DATA AND TEST DATA:\n",
        "x0_train,x0_test,j0_train,j0_test = train_test_split(x0,j0,train_size =0.8)\n",
        "\n",
        "x20_train,x20_test,j20_train,j20_test = train_test_split(x20,j20,train_size =0.8)\n",
        "\n",
        "x100_train,x100_test,j100_train,j100_test = train_test_split(x100,j100,train_size =0.8)\n",
        "\n",
        "x13_train,x13_test,j13_train,j13_test  = train_test_split(x13,j13,train_size =0.8)\n",
        "\n",
        "x14_train,x14_test,j14_train,j14_test = train_test_split(x14,j14,train_size = 0.8)\n"
      ],
      "metadata": {
        "id": "vSXAne-lxffD"
      },
      "execution_count": 170,
      "outputs": []
    },
    {
      "cell_type": "markdown",
      "source": [
        "So far I've prepared the training and test data for all the iterations and plot the actual J0(x) graph from 0 to 8"
      ],
      "metadata": {
        "id": "e0adnI05D1Td"
      }
    },
    {
      "cell_type": "code",
      "source": [
        "#It's time to train an 8th order of pol. reg. model #j0(z) = sum over k[0 to 8] ((z^2/4)^k/(k!)^2)*(-1)^k\n",
        "\"\"\"for 10 data points 8 of which to train\"\"\"\n",
        "#plotting\n",
        "d = 8 \n",
        "###\n",
        "polfit = np.poly1d(np.polyfit(x0_train,j0_train,d))\n",
        "xx = np.linspace(0,8,10)\n",
        "plot(xx,polfit(xx),c= 'b')\n",
        "scatter(x0_train,j0_train,marker=\"1\",c='r')\n",
        "scatter(x0_test,j0_test,c= 'g')\n",
        "plot(x,J0,c='k')\n",
        "grid(True)\n",
        "\n",
        "#test error:\n",
        "ts_er0 =mean_squared_error(j0_test, polfit(j0_test))\n",
        "#training error: \n",
        "tr_er0 =mean_squared_error(j0_train,polfit(j0_train))\n",
        "\n",
        "R2_Train = r2_score(j0_train,polfit(x0_train))\n",
        "R2_Test = r2_score(j0_test,polfit(x0_test))\n",
        "print(R2_Test)\n",
        "print(R2_Train)\n",
        "print(\"training error: \",tr_er0)\n",
        "print(\"test error: \",ts_er0)"
      ],
      "metadata": {
        "id": "bUbAHiiTTO2s"
      },
      "execution_count": null,
      "outputs": []
    },
    {
      "cell_type": "code",
      "source": [
        "\"\"\"for 20 data points 16 of which to train\"\"\"\n",
        "\n",
        "d = 8 \n",
        "polfit = np.poly1d(np.polyfit(x20_train,j20_train,d))\n",
        "xx = np.linspace(0,8,20)\n",
        "plot(xx,polfit(xx),c= 'b')\n",
        "scatter(x20_train,j20_train,marker=\"1\",c='r')\n",
        "scatter(x20_test,j20_test,c='g')\n",
        "plot(x,J0,c='k')\n",
        "grid(True)\n",
        "\n",
        "ts_er20 =mean_squared_error(j20_test, polfit(j20_test))\n",
        "tr_er20 =mean_squared_error(j20_train,polfit(j20_train))\n",
        "\n",
        "R2_Train = r2_score(j20_train,polfit(x20_train))\n",
        "R2_Test = r2_score(j20_test,polfit(x20_test))\n",
        "\n",
        "print(R2_Test)\n",
        "print(R2_Train)\n",
        "print(\"training error: \",tr_er20)\n",
        "print(\"test error: \",ts_er20)"
      ],
      "metadata": {
        "id": "_jh7Wm2SuQGt"
      },
      "execution_count": null,
      "outputs": []
    },
    {
      "cell_type": "code",
      "source": [
        "\"\"\"for 100 data points ...\"\"\"\n",
        "d = 8 \n",
        "polfit = np.poly1d(np.polyfit(x100_train,j100_train,d))\n",
        "xx = np.linspace(0,8,100)\n",
        "plot(xx,polfit(xx),c= 'b')\n",
        "scatter(x100_train,j100_train,marker=\"1\",c='r')\n",
        "scatter(x100_test,j100_test,c='g')\n",
        "plot(x,J0,c='k')\n",
        "grid(True)\n",
        "R2_Train = r2_score(j100_train,polfit(x100_train))\n",
        "R2_Test = r2_score(j100_test,polfit(x100_test))\n",
        "\n",
        "ts_er100 =mean_squared_error(j100_test, polfit(j100_test))\n",
        "tr_er100 =mean_squared_error(j100_train,polfit(j100_train))\n",
        "print(\"training error: \",tr_er100)\n",
        "print(\"test error: \",ts_er100)\n",
        "print(R2_Test)\n",
        "print(R2_Train)"
      ],
      "metadata": {
        "id": "6nqyU-GdhN4M"
      },
      "execution_count": null,
      "outputs": []
    },
    {
      "cell_type": "code",
      "source": [
        "\"\"\"for 1000 data points...\"\"\"\n",
        "d = 8 \n",
        "polfit = np.poly1d(np.polyfit(x13_train,j13_train,d))\n",
        "xx = np.linspace(0,8,1000)\n",
        "plot(xx,polfit(xx),c= 'b')\n",
        "scatter(x13_train,j13_train,marker=\"1\",c='r',alpha = 0.2)\n",
        "scatter(x13_test,j13_test,c='g')\n",
        "plot(x,J0,c='k')\n",
        "grid(True)\n",
        "R2_Train = r2_score(j13_train,polfit(x13_train))\n",
        "R2_Test = r2_score(j13_test,polfit(x13_test))\n",
        "\n",
        "ts_er13 =mean_squared_error(j13_test, polfit(j13_test))\n",
        "tr_er13 =mean_squared_error(j13_train,polfit(j13_train))\n",
        "print(\"training error: \",tr_er13)\n",
        "print(\"test error: \",ts_er13)\n",
        "print(R2_Test)\n",
        "print(R2_Train)"
      ],
      "metadata": {
        "id": "9WKJU9NZiZ_o"
      },
      "execution_count": null,
      "outputs": []
    },
    {
      "cell_type": "code",
      "source": [
        "\"\"\"10^4 data points\"\"\"\n",
        "d = 8 \n",
        "polfit = np.poly1d(np.polyfit(x14_train,j14_train,d))\n",
        "xx = np.linspace(0,8,10**4)\n",
        "plot(xx,polfit(xx),c= 'b')\n",
        "scatter(x14_train,j14_train,marker=\"1\",c='r',alpha = 0.02)\n",
        "scatter(x14_test,j14_test,c='g')\n",
        "plot(x,J0,c='k')\n",
        "grid(True)\n",
        "R2_Train = r2_score(j14_train,polfit(x14_train))\n",
        "R2_Test = r2_score(j14_test,polfit(x14_test))\n",
        "ts_er14 =mean_squared_error(j14_test, polfit(j14_test))\n",
        "tr_er14 =mean_squared_error(j14_train,polfit(j14_train))\n",
        "print(\"Training error: \",tr_er14)\n",
        "print(\"Test error: \",tr_er14)\n",
        "\n",
        "print(R2_Test)\n",
        "print(R2_Train)"
      ],
      "metadata": {
        "id": "bhAunrb-im33"
      },
      "execution_count": null,
      "outputs": []
    },
    {
      "cell_type": "code",
      "source": [],
      "metadata": {
        "id": "02By7XZVjZuo"
      },
      "execution_count": null,
      "outputs": []
    }
  ]
}